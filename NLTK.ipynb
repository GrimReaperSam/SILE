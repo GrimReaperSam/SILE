{
 "cells": [
  {
   "cell_type": "code",
   "execution_count": 1,
   "metadata": {
    "collapsed": false
   },
   "outputs": [],
   "source": [
    "%load_ext autoreload\n",
    "%autoreload 2"
   ]
  },
  {
   "cell_type": "code",
   "execution_count": 2,
   "metadata": {
    "collapsed": true
   },
   "outputs": [],
   "source": [
    "from nltk.corpus import wordnet as wn"
   ]
  },
  {
   "cell_type": "code",
   "execution_count": 3,
   "metadata": {
    "collapsed": false
   },
   "outputs": [
    {
     "data": {
      "text/plain": [
       "[Synset('canine.n.02'),\n",
       " Synset('domestic_animal.n.01'),\n",
       " Synset('carnivore.n.01'),\n",
       " Synset('animal.n.01'),\n",
       " Synset('placental.n.01'),\n",
       " Synset('organism.n.01'),\n",
       " Synset('mammal.n.01'),\n",
       " Synset('living_thing.n.01'),\n",
       " Synset('vertebrate.n.01'),\n",
       " Synset('whole.n.02'),\n",
       " Synset('chordate.n.01'),\n",
       " Synset('object.n.01'),\n",
       " Synset('physical_entity.n.01'),\n",
       " Synset('entity.n.01')]"
      ]
     },
     "execution_count": 3,
     "metadata": {},
     "output_type": "execute_result"
    }
   ],
   "source": [
    "list(wn.synset('dog.n.01').closure(lambda s: s.hypernyms()))"
   ]
  },
  {
   "cell_type": "code",
   "execution_count": 4,
   "metadata": {
    "collapsed": false
   },
   "outputs": [
    {
     "data": {
      "text/plain": [
       "[Synset('season.n.02'),\n",
       " Synset('time_period.n.01'),\n",
       " Synset('fundamental_quantity.n.01'),\n",
       " Synset('measure.n.02'),\n",
       " Synset('abstraction.n.06'),\n",
       " Synset('entity.n.01')]"
      ]
     },
     "execution_count": 4,
     "metadata": {},
     "output_type": "execute_result"
    }
   ],
   "source": [
    "list(wn.synset('winter.n.01').closure(lambda s: s.hypernyms()))"
   ]
  },
  {
   "cell_type": "code",
   "execution_count": 5,
   "metadata": {
    "collapsed": false
   },
   "outputs": [
    {
     "data": {
      "text/plain": [
       "[Synset('chromatic_color.n.01'),\n",
       " Synset('color.n.01'),\n",
       " Synset('visual_property.n.01'),\n",
       " Synset('property.n.02'),\n",
       " Synset('attribute.n.02'),\n",
       " Synset('abstraction.n.06'),\n",
       " Synset('entity.n.01')]"
      ]
     },
     "execution_count": 5,
     "metadata": {},
     "output_type": "execute_result"
    }
   ],
   "source": [
    "list(wn.synset('red.n.01').closure(lambda s: s.hypernyms()))"
   ]
  },
  {
   "cell_type": "code",
   "execution_count": 6,
   "metadata": {
    "collapsed": false
   },
   "outputs": [
    {
     "data": {
      "text/plain": [
       "[Synset('emotional_state.n.01'),\n",
       " Synset('emotion.n.01'),\n",
       " Synset('feeling.n.01'),\n",
       " Synset('state.n.02'),\n",
       " Synset('attribute.n.02'),\n",
       " Synset('abstraction.n.06'),\n",
       " Synset('entity.n.01')]"
      ]
     },
     "execution_count": 6,
     "metadata": {},
     "output_type": "execute_result"
    }
   ],
   "source": [
    "list(wn.synset('happiness.n.01').closure(lambda s: s.hypernyms()))"
   ]
  },
  {
   "cell_type": "code",
   "execution_count": 7,
   "metadata": {
    "collapsed": false
   },
   "outputs": [
    {
     "data": {
      "text/plain": [
       "[Synset('size.n.02'),\n",
       " Synset('property.n.02'),\n",
       " Synset('attribute.n.02'),\n",
       " Synset('abstraction.n.06'),\n",
       " Synset('entity.n.01')]"
      ]
     },
     "execution_count": 7,
     "metadata": {},
     "output_type": "execute_result"
    }
   ],
   "source": [
    "list(wn.synset('large.n.01').closure(lambda s: s.hypernyms()))"
   ]
  },
  {
   "cell_type": "code",
   "execution_count": 8,
   "metadata": {
    "collapsed": false
   },
   "outputs": [],
   "source": [
    "def isObject(word):\n",
    "    try:\n",
    "        synsets = wn.synset('%s.n.01' % word).closure(lambda s:s.hypernyms())\n",
    "        synsets = list(synsets)\n",
    "\n",
    "        for s in synsets:\n",
    "            for l in s.lemmas():\n",
    "                if l.name() in ['object', 'solid', 'matter']:\n",
    "                    return True\n",
    "    except Exception:\n",
    "        return False\n",
    "    return False"
   ]
  },
  {
   "cell_type": "code",
   "execution_count": 16,
   "metadata": {
    "collapsed": false
   },
   "outputs": [
    {
     "name": "stdout",
     "output_type": "stream",
     "text": [
      "larger      False\n",
      "\n",
      "dog         True\n",
      "\n",
      "food        True\n",
      "\n",
      "strawberry  True\n",
      "\n",
      "sunset      False\n",
      "\n",
      "red         False\n",
      "\n",
      "nine        False\n",
      "\n",
      "potato      True\n",
      "\n",
      "car         True\n",
      "\n",
      "building    True\n",
      "\n",
      "happiness   False\n",
      "\n",
      "glory       False\n",
      "\n",
      "bottle      True\n",
      "\n",
      "night       False\n",
      "\n",
      "lightning   False\n",
      "\n"
     ]
    }
   ],
   "source": [
    "test_words = ['larger', 'dog', 'food', 'strawberry', 'sunset', 'red', 'nine', 'potato', 'car', 'building',\n",
    "             'happiness', 'glory', 'bottle', 'night', 'lightning']\n",
    "\n",
    "for w in test_words:\n",
    "    print('%-12s%s' % (w, isObject(w)))\n",
    "    print()"
   ]
  },
  {
   "cell_type": "code",
   "execution_count": null,
   "metadata": {
    "collapsed": true
   },
   "outputs": [],
   "source": []
  }
 ],
 "metadata": {
  "anaconda-cloud": {},
  "kernelspec": {
   "display_name": "Python [default]",
   "language": "python",
   "name": "python3"
  },
  "language_info": {
   "codemirror_mode": {
    "name": "ipython",
    "version": 3
   },
   "file_extension": ".py",
   "mimetype": "text/x-python",
   "name": "python",
   "nbconvert_exporter": "python",
   "pygments_lexer": "ipython3",
   "version": "3.5.2"
  }
 },
 "nbformat": 4,
 "nbformat_minor": 1
}
